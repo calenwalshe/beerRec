{
 "cells": [
  {
   "cell_type": "code",
   "execution_count": 1,
   "metadata": {},
   "outputs": [],
   "source": [
    "import pandas as pd\n",
    "import numpy as np\n",
    "import surprise as surp\n",
    "from surprise import BaselineOnly\n",
    "from surprise import Dataset\n",
    "from surprise import Reader\n",
    "from surprise.model_selection import cross_validate\n",
    "from surprise import KNNBasic\n",
    "import pickle as pk\n",
    "\n",
    "beer = pd.read_csv(\"https://www.dropbox.com/s/iqcsdech6e0b9xg/beer_reviews.csv?dl=1\")"
   ]
  },
  {
   "cell_type": "code",
   "execution_count": 2,
   "metadata": {},
   "outputs": [
    {
     "data": {
      "text/html": [
       "<div>\n",
       "<style scoped>\n",
       "    .dataframe tbody tr th:only-of-type {\n",
       "        vertical-align: middle;\n",
       "    }\n",
       "\n",
       "    .dataframe tbody tr th {\n",
       "        vertical-align: top;\n",
       "    }\n",
       "\n",
       "    .dataframe thead th {\n",
       "        text-align: right;\n",
       "    }\n",
       "</style>\n",
       "<table border=\"1\" class=\"dataframe\">\n",
       "  <thead>\n",
       "    <tr style=\"text-align: right;\">\n",
       "      <th></th>\n",
       "      <th>brewery_id</th>\n",
       "      <th>brewery_name</th>\n",
       "      <th>review_time</th>\n",
       "      <th>review_overall</th>\n",
       "      <th>review_aroma</th>\n",
       "      <th>review_appearance</th>\n",
       "      <th>review_profilename</th>\n",
       "      <th>beer_style</th>\n",
       "      <th>review_palate</th>\n",
       "      <th>review_taste</th>\n",
       "      <th>beer_name</th>\n",
       "      <th>beer_abv</th>\n",
       "      <th>beer_beerid</th>\n",
       "    </tr>\n",
       "  </thead>\n",
       "  <tbody>\n",
       "    <tr>\n",
       "      <th>438699</th>\n",
       "      <td>2079</td>\n",
       "      <td>Sweetwater Tavern &amp; Brewery</td>\n",
       "      <td>1326213511</td>\n",
       "      <td>4.0</td>\n",
       "      <td>3.5</td>\n",
       "      <td>4.0</td>\n",
       "      <td>mattp</td>\n",
       "      <td>American IPA</td>\n",
       "      <td>4.0</td>\n",
       "      <td>4.0</td>\n",
       "      <td>Kokopelli IPA</td>\n",
       "      <td>6.6</td>\n",
       "      <td>36143</td>\n",
       "    </tr>\n",
       "    <tr>\n",
       "      <th>438700</th>\n",
       "      <td>2079</td>\n",
       "      <td>Sweetwater Tavern &amp; Brewery</td>\n",
       "      <td>1258490524</td>\n",
       "      <td>3.0</td>\n",
       "      <td>2.0</td>\n",
       "      <td>4.0</td>\n",
       "      <td>drabmuh</td>\n",
       "      <td>American IPA</td>\n",
       "      <td>2.0</td>\n",
       "      <td>1.5</td>\n",
       "      <td>Kokopelli IPA</td>\n",
       "      <td>6.6</td>\n",
       "      <td>36143</td>\n",
       "    </tr>\n",
       "    <tr>\n",
       "      <th>438701</th>\n",
       "      <td>2079</td>\n",
       "      <td>Sweetwater Tavern &amp; Brewery</td>\n",
       "      <td>1175199682</td>\n",
       "      <td>2.5</td>\n",
       "      <td>3.0</td>\n",
       "      <td>4.5</td>\n",
       "      <td>RBorsato</td>\n",
       "      <td>American IPA</td>\n",
       "      <td>4.5</td>\n",
       "      <td>2.5</td>\n",
       "      <td>Kokopelli IPA</td>\n",
       "      <td>6.6</td>\n",
       "      <td>36143</td>\n",
       "    </tr>\n",
       "  </tbody>\n",
       "</table>\n",
       "</div>"
      ],
      "text/plain": [
       "        brewery_id                 brewery_name  review_time  review_overall  \\\n",
       "438699        2079  Sweetwater Tavern & Brewery   1326213511             4.0   \n",
       "438700        2079  Sweetwater Tavern & Brewery   1258490524             3.0   \n",
       "438701        2079  Sweetwater Tavern & Brewery   1175199682             2.5   \n",
       "\n",
       "        review_aroma  review_appearance review_profilename    beer_style  \\\n",
       "438699           3.5                4.0              mattp  American IPA   \n",
       "438700           2.0                4.0            drabmuh  American IPA   \n",
       "438701           3.0                4.5           RBorsato  American IPA   \n",
       "\n",
       "        review_palate  review_taste      beer_name  beer_abv  beer_beerid  \n",
       "438699            4.0           4.0  Kokopelli IPA       6.6        36143  \n",
       "438700            2.0           1.5  Kokopelli IPA       6.6        36143  \n",
       "438701            4.5           2.5  Kokopelli IPA       6.6        36143  "
      ]
     },
     "execution_count": 2,
     "metadata": {},
     "output_type": "execute_result"
    }
   ],
   "source": [
    "beer.query('beer_beerid == 36143')"
   ]
  },
  {
   "cell_type": "code",
   "execution_count": 3,
   "metadata": {},
   "outputs": [],
   "source": [
    "beer_sub = beer[['review_profilename', 'beer_beerid', 'review_overall']]"
   ]
  },
  {
   "cell_type": "code",
   "execution_count": 4,
   "metadata": {},
   "outputs": [],
   "source": [
    "reader = Reader(rating_scale=(1, 5))\n",
    "beer_surp = surp.dataset.Dataset.load_from_df(beer_sub, reader)"
   ]
  },
  {
   "cell_type": "code",
   "execution_count": 5,
   "metadata": {},
   "outputs": [],
   "source": [
    "trainsetfull = beer_surp.build_full_trainset()"
   ]
  },
  {
   "cell_type": "code",
   "execution_count": null,
   "metadata": {},
   "outputs": [],
   "source": [
    "sim_options = {'name': 'cosine', 'user_based': False}\n",
    "algo = KNNBasic(sim_options = sim_options)\n",
    "algo.fit(trainsetfull)"
   ]
  },
  {
   "cell_type": "code",
   "execution_count": 14,
   "metadata": {},
   "outputs": [],
   "source": [
    "beer_neighbors = algo.get_neighbors(1, k=10)"
   ]
  },
  {
   "cell_type": "code",
   "execution_count": 15,
   "metadata": {},
   "outputs": [],
   "source": [
    "beer_mappings = beer[['beer_name','beer_beerid']].drop_duplicates()\n",
    "inner_id = list(map(algo.trainset.to_inner_iid, beer_mappings.beer_beerid))\n",
    "beer_mappings[\"inner_id\"] = inner_id"
   ]
  },
  {
   "cell_type": "code",
   "execution_count": 16,
   "metadata": {},
   "outputs": [],
   "source": [
    "A = map(lambda x: pd.DataFrame({'inner_id': x, \\\n",
    "                                'raw_id': algo.trainset.to_raw_iid(x), \\\n",
    "                                'beer_name': beer_mappings.beer_name.iloc[x], \\\n",
    "                                'neighbors': algo.get_neighbors(x, k = 10), \\\n",
    "                                'neighbors_rawid': list(map(lambda xx: algo.trainset.to_raw_iid(xx), algo.get_neighbors(x, k = 10))), \\\n",
    "                                'neighbor_names': list(map(lambda y: beer_mappings.beer_name.iloc[y], algo.get_neighbors(x, k = 10)))}), trainsetfull.all_items())"
   ]
  },
  {
   "cell_type": "code",
   "execution_count": 19,
   "metadata": {},
   "outputs": [],
   "source": [
    "AA = pd.concat(A)"
   ]
  },
  {
   "cell_type": "code",
   "execution_count": 22,
   "metadata": {},
   "outputs": [],
   "source": [
    "pk.dump(AA, open( \"/main/calen/pickle_beer\", \"wb\" ) )"
   ]
  },
  {
   "cell_type": "code",
   "execution_count": null,
   "metadata": {},
   "outputs": [],
   "source": []
  }
 ],
 "metadata": {
  "kernelspec": {
   "display_name": "Python 3",
   "language": "python",
   "name": "python3"
  },
  "language_info": {
   "codemirror_mode": {
    "name": "ipython",
    "version": 3
   },
   "file_extension": ".py",
   "mimetype": "text/x-python",
   "name": "python",
   "nbconvert_exporter": "python",
   "pygments_lexer": "ipython3",
   "version": "3.7.3"
  }
 },
 "nbformat": 4,
 "nbformat_minor": 2
}
